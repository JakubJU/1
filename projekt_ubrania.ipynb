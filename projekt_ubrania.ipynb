{
  "nbformat": 4,
  "nbformat_minor": 0,
  "metadata": {
    "colab": {
      "name": "projekt ubrania",
      "provenance": [],
      "collapsed_sections": [],
      "authorship_tag": "ABX9TyMgWFzr1GYPDckkZwif9Xpv",
      "include_colab_link": true
    },
    "kernelspec": {
      "name": "python3",
      "display_name": "Python 3"
    },
    "language_info": {
      "name": "python"
    },
    "accelerator": "GPU"
  },
  "cells": [
    {
      "cell_type": "markdown",
      "metadata": {
        "id": "view-in-github",
        "colab_type": "text"
      },
      "source": [
        "<a href=\"https://colab.research.google.com/github/JakubJU/1/blob/main/projekt_ubrania.ipynb\" target=\"_parent\"><img src=\"https://colab.research.google.com/assets/colab-badge.svg\" alt=\"Open In Colab\"/></a>"
      ]
    },
    {
      "cell_type": "code",
      "metadata": {
        "id": "U7HIoC6r7LO_"
      },
      "source": [
        "%matplotlib inline\n",
        "#Machine learning Libaries\n",
        "import tensorflow as tf\n",
        "from tensorflow import keras\n",
        "from sklearn.metrics import confusion_matrix\n",
        "from sklearn.metrics import plot_confusion_matrix\n",
        "#Visualising\n",
        "import matplotlib.pyplot as plt\n",
        "from matplotlib.pyplot import imshow\n",
        "#Data manipulation\n",
        "import pandas as pd\n",
        "import numpy as np"
      ],
      "execution_count": 1,
      "outputs": []
    },
    {
      "cell_type": "code",
      "metadata": {
        "colab": {
          "base_uri": "https://localhost:8080/"
        },
        "id": "2Dm43I0gUYvH",
        "outputId": "2b935f74-a6e3-44c7-d46f-dadddc6b57e7"
      },
      "source": [
        "from google.colab import drive  \n",
        "drive.mount('/content/gdrive')"
      ],
      "execution_count": 2,
      "outputs": [
        {
          "output_type": "stream",
          "text": [
            "Mounted at /content/gdrive\n"
          ],
          "name": "stdout"
        }
      ]
    },
    {
      "cell_type": "code",
      "metadata": {
        "id": "vBLhOcSVVfX0"
      },
      "source": [
        "\n",
        " \n"
      ],
      "execution_count": 2,
      "outputs": []
    },
    {
      "cell_type": "code",
      "metadata": {
        "id": "U8HHsGL8ZGvy"
      },
      "source": [
        ""
      ],
      "execution_count": 2,
      "outputs": []
    },
    {
      "cell_type": "code",
      "metadata": {
        "id": "PeA7XAts7Uq4"
      },
      "source": [
        "dataTrain = pd.read_csv('/content/gdrive/My Drive/fashion-mnist_train.csv')\n",
        "dataVal = pd.read_csv('/content/gdrive/My Drive/fashion-mnist_test.csv')\n",
        "\n",
        "xTrain, yTrain = dataTrain.drop('label', 1)/255, dataTrain['label']\n",
        "xVal, yVal  = dataVal.drop('label', 1)/255, dataVal['label']"
      ],
      "execution_count": 3,
      "outputs": []
    },
    {
      "cell_type": "code",
      "metadata": {
        "id": "D47zrCiF7vfj"
      },
      "source": [
        "#Reshaping\n",
        "xTrain = tf.reshape(xTrain, [60000, 28, 28, 1])\n",
        "xVal = tf.reshape(xVal, [10000, 28, 28, 1])"
      ],
      "execution_count": 4,
      "outputs": []
    },
    {
      "cell_type": "code",
      "metadata": {
        "colab": {
          "base_uri": "https://localhost:8080/"
        },
        "id": "UCh6Kvj3cqpV",
        "outputId": "fe9d9045-5ff6-4499-a253-704c4fd04f51"
      },
      "source": [
        "xTrain"
      ],
      "execution_count": 5,
      "outputs": [
        {
          "output_type": "execute_result",
          "data": {
            "text/plain": [
              "<tf.Tensor: shape=(60000, 28, 28, 1), dtype=float64, numpy=\n",
              "array([[[[0.        ],\n",
              "         [0.        ],\n",
              "         [0.        ],\n",
              "         ...,\n",
              "         [0.        ],\n",
              "         [0.        ],\n",
              "         [0.        ]],\n",
              "\n",
              "        [[0.        ],\n",
              "         [0.        ],\n",
              "         [0.        ],\n",
              "         ...,\n",
              "         [0.        ],\n",
              "         [0.        ],\n",
              "         [0.        ]],\n",
              "\n",
              "        [[0.        ],\n",
              "         [0.        ],\n",
              "         [0.        ],\n",
              "         ...,\n",
              "         [0.        ],\n",
              "         [0.        ],\n",
              "         [0.        ]],\n",
              "\n",
              "        ...,\n",
              "\n",
              "        [[0.        ],\n",
              "         [0.        ],\n",
              "         [0.        ],\n",
              "         ...,\n",
              "         [0.        ],\n",
              "         [0.        ],\n",
              "         [0.        ]],\n",
              "\n",
              "        [[0.        ],\n",
              "         [0.        ],\n",
              "         [0.        ],\n",
              "         ...,\n",
              "         [0.        ],\n",
              "         [0.        ],\n",
              "         [0.        ]],\n",
              "\n",
              "        [[0.        ],\n",
              "         [0.        ],\n",
              "         [0.        ],\n",
              "         ...,\n",
              "         [0.        ],\n",
              "         [0.        ],\n",
              "         [0.        ]]],\n",
              "\n",
              "\n",
              "       [[[0.        ],\n",
              "         [0.        ],\n",
              "         [0.        ],\n",
              "         ...,\n",
              "         [0.        ],\n",
              "         [0.        ],\n",
              "         [0.        ]],\n",
              "\n",
              "        [[0.        ],\n",
              "         [0.        ],\n",
              "         [0.        ],\n",
              "         ...,\n",
              "         [0.        ],\n",
              "         [0.        ],\n",
              "         [0.        ]],\n",
              "\n",
              "        [[0.        ],\n",
              "         [0.        ],\n",
              "         [0.        ],\n",
              "         ...,\n",
              "         [0.        ],\n",
              "         [0.        ],\n",
              "         [0.        ]],\n",
              "\n",
              "        ...,\n",
              "\n",
              "        [[0.        ],\n",
              "         [0.        ],\n",
              "         [0.        ],\n",
              "         ...,\n",
              "         [0.        ],\n",
              "         [0.        ],\n",
              "         [0.        ]],\n",
              "\n",
              "        [[0.        ],\n",
              "         [0.        ],\n",
              "         [0.        ],\n",
              "         ...,\n",
              "         [0.        ],\n",
              "         [0.        ],\n",
              "         [0.        ]],\n",
              "\n",
              "        [[0.        ],\n",
              "         [0.        ],\n",
              "         [0.        ],\n",
              "         ...,\n",
              "         [0.        ],\n",
              "         [0.        ],\n",
              "         [0.        ]]],\n",
              "\n",
              "\n",
              "       [[[0.        ],\n",
              "         [0.        ],\n",
              "         [0.        ],\n",
              "         ...,\n",
              "         [0.        ],\n",
              "         [0.        ],\n",
              "         [0.        ]],\n",
              "\n",
              "        [[0.        ],\n",
              "         [0.        ],\n",
              "         [0.        ],\n",
              "         ...,\n",
              "         [0.        ],\n",
              "         [0.        ],\n",
              "         [0.        ]],\n",
              "\n",
              "        [[0.        ],\n",
              "         [0.        ],\n",
              "         [0.        ],\n",
              "         ...,\n",
              "         [0.        ],\n",
              "         [0.        ],\n",
              "         [0.        ]],\n",
              "\n",
              "        ...,\n",
              "\n",
              "        [[0.        ],\n",
              "         [0.        ],\n",
              "         [0.        ],\n",
              "         ...,\n",
              "         [0.        ],\n",
              "         [0.        ],\n",
              "         [0.        ]],\n",
              "\n",
              "        [[0.        ],\n",
              "         [0.        ],\n",
              "         [0.        ],\n",
              "         ...,\n",
              "         [0.        ],\n",
              "         [0.        ],\n",
              "         [0.        ]],\n",
              "\n",
              "        [[0.        ],\n",
              "         [0.        ],\n",
              "         [0.        ],\n",
              "         ...,\n",
              "         [0.        ],\n",
              "         [0.        ],\n",
              "         [0.        ]]],\n",
              "\n",
              "\n",
              "       ...,\n",
              "\n",
              "\n",
              "       [[[0.        ],\n",
              "         [0.        ],\n",
              "         [0.        ],\n",
              "         ...,\n",
              "         [0.        ],\n",
              "         [0.        ],\n",
              "         [0.        ]],\n",
              "\n",
              "        [[0.        ],\n",
              "         [0.        ],\n",
              "         [0.        ],\n",
              "         ...,\n",
              "         [0.        ],\n",
              "         [0.        ],\n",
              "         [0.        ]],\n",
              "\n",
              "        [[0.        ],\n",
              "         [0.        ],\n",
              "         [0.        ],\n",
              "         ...,\n",
              "         [0.        ],\n",
              "         [0.        ],\n",
              "         [0.        ]],\n",
              "\n",
              "        ...,\n",
              "\n",
              "        [[0.        ],\n",
              "         [0.        ],\n",
              "         [0.        ],\n",
              "         ...,\n",
              "         [0.        ],\n",
              "         [0.        ],\n",
              "         [0.        ]],\n",
              "\n",
              "        [[0.        ],\n",
              "         [0.        ],\n",
              "         [0.        ],\n",
              "         ...,\n",
              "         [0.        ],\n",
              "         [0.        ],\n",
              "         [0.        ]],\n",
              "\n",
              "        [[0.        ],\n",
              "         [0.        ],\n",
              "         [0.        ],\n",
              "         ...,\n",
              "         [0.        ],\n",
              "         [0.        ],\n",
              "         [0.        ]]],\n",
              "\n",
              "\n",
              "       [[[0.        ],\n",
              "         [0.        ],\n",
              "         [0.        ],\n",
              "         ...,\n",
              "         [0.        ],\n",
              "         [0.        ],\n",
              "         [0.        ]],\n",
              "\n",
              "        [[0.        ],\n",
              "         [0.        ],\n",
              "         [0.        ],\n",
              "         ...,\n",
              "         [0.        ],\n",
              "         [0.        ],\n",
              "         [0.        ]],\n",
              "\n",
              "        [[0.        ],\n",
              "         [0.        ],\n",
              "         [0.        ],\n",
              "         ...,\n",
              "         [0.        ],\n",
              "         [0.        ],\n",
              "         [0.        ]],\n",
              "\n",
              "        ...,\n",
              "\n",
              "        [[0.        ],\n",
              "         [0.        ],\n",
              "         [0.62352941],\n",
              "         ...,\n",
              "         [0.01960784],\n",
              "         [0.        ],\n",
              "         [0.        ]],\n",
              "\n",
              "        [[0.        ],\n",
              "         [0.        ],\n",
              "         [0.        ],\n",
              "         ...,\n",
              "         [0.        ],\n",
              "         [0.        ],\n",
              "         [0.00392157]],\n",
              "\n",
              "        [[0.        ],\n",
              "         [0.        ],\n",
              "         [0.        ],\n",
              "         ...,\n",
              "         [0.        ],\n",
              "         [0.        ],\n",
              "         [0.        ]]],\n",
              "\n",
              "\n",
              "       [[[0.        ],\n",
              "         [0.        ],\n",
              "         [0.        ],\n",
              "         ...,\n",
              "         [0.        ],\n",
              "         [0.        ],\n",
              "         [0.        ]],\n",
              "\n",
              "        [[0.        ],\n",
              "         [0.        ],\n",
              "         [0.        ],\n",
              "         ...,\n",
              "         [0.        ],\n",
              "         [0.        ],\n",
              "         [0.        ]],\n",
              "\n",
              "        [[0.        ],\n",
              "         [0.        ],\n",
              "         [0.        ],\n",
              "         ...,\n",
              "         [0.        ],\n",
              "         [0.        ],\n",
              "         [0.        ]],\n",
              "\n",
              "        ...,\n",
              "\n",
              "        [[0.        ],\n",
              "         [0.        ],\n",
              "         [0.        ],\n",
              "         ...,\n",
              "         [0.        ],\n",
              "         [0.        ],\n",
              "         [0.        ]],\n",
              "\n",
              "        [[0.        ],\n",
              "         [0.        ],\n",
              "         [0.        ],\n",
              "         ...,\n",
              "         [0.        ],\n",
              "         [0.        ],\n",
              "         [0.        ]],\n",
              "\n",
              "        [[0.        ],\n",
              "         [0.        ],\n",
              "         [0.        ],\n",
              "         ...,\n",
              "         [0.        ],\n",
              "         [0.        ],\n",
              "         [0.        ]]]])>"
            ]
          },
          "metadata": {
            "tags": []
          },
          "execution_count": 5
        }
      ]
    },
    {
      "cell_type": "code",
      "metadata": {
        "colab": {
          "base_uri": "https://localhost:8080/",
          "height": 197
        },
        "id": "yHAqdF738Bbd",
        "outputId": "ca681c35-ac6b-4d31-c6d0-c070b8b9817a"
      },
      "source": [
        "classNames = [\"T-shirt/top\",\"Trouser\",\"Pullover\",\"Dress\",\"Coat\",\"Sandal\",\n",
        "              \"Shirt\",\"Sneaker\",\"Bag\",\"Ankle boot\"]\n",
        "\n",
        "numOfImgs = 4\n",
        "fig, axs = plt.subplots(nrows=1, ncols=numOfImgs, figsize=(16, 8))\n",
        "\n",
        "for i in range(numOfImgs):\n",
        "    axs[i].imshow(tf.reshape(xTrain[i], [28, 28])*255,vmin=0, vmax=255,cmap='gray')\n",
        "    axs[i].title.set_text(str(classNames[yTrain[i]]))"
      ],
      "execution_count": 6,
      "outputs": [
        {
          "output_type": "display_data",
          "data": {
            "image/png": "[encoded data removed]",
            "text/plain": [
              "<Figure size 1152x576 with 4 Axes>"
            ]
          },
          "metadata": {
            "tags": [],
            "needs_background": "light"
          }
        }
      ]
    },
    {
      "cell_type": "code",
      "metadata": {
        "id": "nybZmJRx8U55"
      },
      "source": [
        "model = keras.models.Sequential([\n",
        "    keras.layers.Conv2D(64,7,activation=\"relu\",padding=\"same\",input_shape=[28,28,1]),\n",
        "    keras.layers.MaxPooling2D(2),\n",
        "    keras.layers.Conv2D(128,5,activation=\"relu\",padding=\"same\"),\n",
        "    keras.layers.Conv2D(128,3,activation=\"relu\",padding=\"same\"),\n",
        "    keras.layers.MaxPooling2D(2),\n",
        "    keras.layers.Conv2D(256,3,activation=\"relu\",padding=\"same\"),\n",
        "    keras.layers.Conv2D(256,3,activation=\"relu\",padding=\"same\"),\n",
        "    keras.layers.MaxPooling2D(2),\n",
        "    keras.layers.Flatten(),\n",
        "    keras.layers.Dense(128,activation=\"relu\"),\n",
        "    keras.layers.Dropout(0.5),\n",
        "    keras.layers.Dense(64,activation=\"relu\"),\n",
        "    keras.layers.Dropout(0.5),\n",
        "    keras.layers.Dense(10,activation=\"softmax\")    \n",
        "])\n",
        "model.compile(loss=\"sparse_categorical_crossentropy\",optimizer=\"sgd\",metrics=[\"accuracy\"])"
      ],
      "execution_count": 9,
      "outputs": []
    },
    {
      "cell_type": "code",
      "metadata": {
        "id": "R4zgZVSXCuEV"
      },
      "source": [
        ""
      ],
      "execution_count": null,
      "outputs": []
    },
    {
      "cell_type": "code",
      "metadata": {
        "colab": {
          "base_uri": "https://localhost:8080/"
        },
        "id": "_ukBL9jz8poh",
        "outputId": "a8687a0f-1fa8-4554-88a0-5b9dc868315e"
      },
      "source": [
        "checkpoint = keras.callbacks.ModelCheckpoint(\"fashion_CNN.h5\",save_best_only=True)\n",
        "history = model.fit(xTrain,yTrain,epochs=50,validation_data=(xVal,yVal), callbacks=[checkpoint], verbose=2)\n"
      ],
      "execution_count": 14,
      "outputs": [
        {
          "output_type": "stream",
          "text": [
            "Epoch 1/50\n",
            "1875/1875 - 11s - loss: 0.2496 - accuracy: 0.9135 - val_loss: 0.2421 - val_accuracy: 0.9119\n",
            "Epoch 2/50\n",
            "1875/1875 - 11s - loss: 0.2406 - accuracy: 0.9161 - val_loss: 0.2432 - val_accuracy: 0.9112\n",
            "Epoch 3/50\n",
            "1875/1875 - 11s - loss: 0.2378 - accuracy: 0.9172 - val_loss: 0.2428 - val_accuracy: 0.9126\n",
            "Epoch 4/50\n",
            "1875/1875 - 11s - loss: 0.2284 - accuracy: 0.9195 - val_loss: 0.2389 - val_accuracy: 0.9172\n",
            "Epoch 5/50\n",
            "1875/1875 - 11s - loss: 0.2256 - accuracy: 0.9200 - val_loss: 0.2464 - val_accuracy: 0.9127\n",
            "Epoch 6/50\n",
            "1875/1875 - 11s - loss: 0.2186 - accuracy: 0.9229 - val_loss: 0.2578 - val_accuracy: 0.9147\n",
            "Epoch 7/50\n",
            "1875/1875 - 11s - loss: 0.2132 - accuracy: 0.9265 - val_loss: 0.2386 - val_accuracy: 0.9131\n",
            "Epoch 8/50\n",
            "1875/1875 - 11s - loss: 0.2080 - accuracy: 0.9257 - val_loss: 0.2392 - val_accuracy: 0.9155\n",
            "Epoch 9/50\n",
            "1875/1875 - 11s - loss: 0.2013 - accuracy: 0.9284 - val_loss: 0.2508 - val_accuracy: 0.9158\n",
            "Epoch 10/50\n",
            "1875/1875 - 11s - loss: 0.1947 - accuracy: 0.9306 - val_loss: 0.2388 - val_accuracy: 0.9197\n",
            "Epoch 11/50\n",
            "1875/1875 - 11s - loss: 0.1917 - accuracy: 0.9322 - val_loss: 0.2436 - val_accuracy: 0.9196\n",
            "Epoch 12/50\n",
            "1875/1875 - 11s - loss: 0.1846 - accuracy: 0.9337 - val_loss: 0.2526 - val_accuracy: 0.9177\n",
            "Epoch 13/50\n",
            "1875/1875 - 11s - loss: 0.1796 - accuracy: 0.9353 - val_loss: 0.2553 - val_accuracy: 0.9125\n",
            "Epoch 14/50\n",
            "1875/1875 - 11s - loss: 0.1780 - accuracy: 0.9373 - val_loss: 0.2405 - val_accuracy: 0.9194\n",
            "Epoch 15/50\n",
            "1875/1875 - 11s - loss: 0.1731 - accuracy: 0.9388 - val_loss: 0.2377 - val_accuracy: 0.9198\n",
            "Epoch 16/50\n",
            "1875/1875 - 11s - loss: 0.1656 - accuracy: 0.9404 - val_loss: 0.2614 - val_accuracy: 0.9169\n",
            "Epoch 17/50\n",
            "1875/1875 - 11s - loss: 0.1599 - accuracy: 0.9427 - val_loss: 0.2381 - val_accuracy: 0.9202\n",
            "Epoch 18/50\n",
            "1875/1875 - 11s - loss: 0.1561 - accuracy: 0.9444 - val_loss: 0.2690 - val_accuracy: 0.9173\n",
            "Epoch 19/50\n",
            "1875/1875 - 11s - loss: 0.1520 - accuracy: 0.9470 - val_loss: 0.2478 - val_accuracy: 0.9186\n",
            "Epoch 20/50\n",
            "1875/1875 - 11s - loss: 0.1473 - accuracy: 0.9480 - val_loss: 0.2492 - val_accuracy: 0.9210\n",
            "Epoch 21/50\n",
            "1875/1875 - 11s - loss: 0.1418 - accuracy: 0.9484 - val_loss: 0.2453 - val_accuracy: 0.9189\n",
            "Epoch 22/50\n",
            "1875/1875 - 11s - loss: 0.1403 - accuracy: 0.9500 - val_loss: 0.2710 - val_accuracy: 0.9214\n",
            "Epoch 23/50\n",
            "1875/1875 - 11s - loss: 0.1343 - accuracy: 0.9516 - val_loss: 0.2676 - val_accuracy: 0.9229\n",
            "Epoch 24/50\n",
            "1875/1875 - 11s - loss: 0.1324 - accuracy: 0.9517 - val_loss: 0.2798 - val_accuracy: 0.9225\n",
            "Epoch 25/50\n",
            "1875/1875 - 11s - loss: 0.1271 - accuracy: 0.9547 - val_loss: 0.2592 - val_accuracy: 0.9222\n",
            "Epoch 26/50\n",
            "1875/1875 - 11s - loss: 0.1227 - accuracy: 0.9555 - val_loss: 0.2833 - val_accuracy: 0.9214\n",
            "Epoch 27/50\n",
            "1875/1875 - 11s - loss: 0.1225 - accuracy: 0.9551 - val_loss: 0.2955 - val_accuracy: 0.9201\n",
            "Epoch 28/50\n",
            "1875/1875 - 11s - loss: 0.1159 - accuracy: 0.9582 - val_loss: 0.2954 - val_accuracy: 0.9226\n",
            "Epoch 29/50\n",
            "1875/1875 - 11s - loss: 0.1136 - accuracy: 0.9590 - val_loss: 0.2970 - val_accuracy: 0.9237\n",
            "Epoch 30/50\n",
            "1875/1875 - 11s - loss: 0.1113 - accuracy: 0.9602 - val_loss: 0.2769 - val_accuracy: 0.9144\n",
            "Epoch 31/50\n",
            "1875/1875 - 11s - loss: 0.1056 - accuracy: 0.9615 - val_loss: 0.3402 - val_accuracy: 0.9189\n",
            "Epoch 32/50\n",
            "1875/1875 - 11s - loss: 0.1014 - accuracy: 0.9634 - val_loss: 0.3064 - val_accuracy: 0.9240\n",
            "Epoch 33/50\n",
            "1875/1875 - 11s - loss: 0.1015 - accuracy: 0.9634 - val_loss: 0.3088 - val_accuracy: 0.9207\n",
            "Epoch 34/50\n",
            "1875/1875 - 11s - loss: 0.0969 - accuracy: 0.9653 - val_loss: 0.3196 - val_accuracy: 0.9241\n",
            "Epoch 35/50\n",
            "1875/1875 - 11s - loss: 0.0995 - accuracy: 0.9650 - val_loss: 0.3252 - val_accuracy: 0.9243\n",
            "Epoch 36/50\n",
            "1875/1875 - 11s - loss: 0.0905 - accuracy: 0.9675 - val_loss: 0.3226 - val_accuracy: 0.9227\n",
            "Epoch 37/50\n",
            "1875/1875 - 11s - loss: 0.0899 - accuracy: 0.9679 - val_loss: 0.3150 - val_accuracy: 0.9224\n",
            "Epoch 38/50\n",
            "1875/1875 - 11s - loss: 0.0858 - accuracy: 0.9695 - val_loss: 0.3296 - val_accuracy: 0.9233\n",
            "Epoch 39/50\n",
            "1875/1875 - 11s - loss: 0.0845 - accuracy: 0.9696 - val_loss: 0.3333 - val_accuracy: 0.9249\n",
            "Epoch 40/50\n",
            "1875/1875 - 11s - loss: 0.0801 - accuracy: 0.9716 - val_loss: 0.3253 - val_accuracy: 0.9221\n",
            "Epoch 41/50\n",
            "1875/1875 - 11s - loss: 0.0805 - accuracy: 0.9711 - val_loss: 0.3387 - val_accuracy: 0.9241\n",
            "Epoch 42/50\n",
            "1875/1875 - 11s - loss: 0.0792 - accuracy: 0.9719 - val_loss: 0.3470 - val_accuracy: 0.9257\n",
            "Epoch 43/50\n",
            "1875/1875 - 11s - loss: 0.0726 - accuracy: 0.9745 - val_loss: 0.3503 - val_accuracy: 0.9243\n",
            "Epoch 44/50\n",
            "1875/1875 - 11s - loss: 0.0730 - accuracy: 0.9739 - val_loss: 0.4017 - val_accuracy: 0.9222\n",
            "Epoch 45/50\n",
            "1875/1875 - 11s - loss: 0.0725 - accuracy: 0.9743 - val_loss: 0.3576 - val_accuracy: 0.9237\n",
            "Epoch 46/50\n",
            "1875/1875 - 11s - loss: 0.0675 - accuracy: 0.9763 - val_loss: 0.3524 - val_accuracy: 0.9250\n",
            "Epoch 47/50\n",
            "1875/1875 - 11s - loss: 0.0691 - accuracy: 0.9752 - val_loss: 0.3954 - val_accuracy: 0.9219\n",
            "Epoch 48/50\n",
            "1875/1875 - 11s - loss: 0.0654 - accuracy: 0.9773 - val_loss: 0.3895 - val_accuracy: 0.9228\n",
            "Epoch 49/50\n",
            "1875/1875 - 11s - loss: 0.0646 - accuracy: 0.9776 - val_loss: 0.3892 - val_accuracy: 0.9238\n",
            "Epoch 50/50\n",
            "1875/1875 - 11s - loss: 0.0595 - accuracy: 0.9788 - val_loss: 0.3844 - val_accuracy: 0.9243\n"
          ],
          "name": "stdout"
        }
      ]
    },
    {
      "cell_type": "code",
      "metadata": {
        "colab": {
          "base_uri": "https://localhost:8080/",
          "height": 295
        },
        "id": "IzprxpiJ8wfK",
        "outputId": "b9382b9f-111c-4e4e-9374-c741ebf481d5"
      },
      "source": [
        "#Visualise training process\n",
        "plt.plot(history.history['loss'])\n",
        "plt.plot(history.history['val_loss'])\n",
        "plt.title('model loss')\n",
        "plt.ylabel('loss')\n",
        "plt.xlabel('epoch')\n",
        "plt.legend(['Training Set', 'Validation Set'], loc='upper right')\n",
        "plt.show()"
      ],
      "execution_count": 15,
      "outputs": [
        {
          "output_type": "display_data",
          "data": {
            "image/png": "[encoded data removed]",
            "text/plain": [
              "<Figure size 432x288 with 1 Axes>"
            ]
          },
          "metadata": {
            "tags": [],
            "needs_background": "light"
          }
        }
      ]
    },
    {
      "cell_type": "code",
      "metadata": {
        "colab": {
          "base_uri": "https://localhost:8080/"
        },
        "id": "r5s6hQpV82JD",
        "outputId": "ca7c19fd-db61-47f9-e3bc-edc0231f2f1f"
      },
      "source": [
        "predictions = model.predict(xVal)\n",
        "print(predictions[0].round(0))\n",
        "\n",
        "maxPrediction = []\n",
        "for i in range(predictions.shape[0]):\n",
        "    maxPrediction.append(np.argmax(predictions[i]))"
      ],
      "execution_count": 16,
      "outputs": [
        {
          "output_type": "stream",
          "text": [
            "[1. 0. 0. 0. 0. 0. 0. 0. 0. 0.]\n"
          ],
          "name": "stdout"
        }
      ]
    },
    {
      "cell_type": "code",
      "metadata": {
        "colab": {
          "base_uri": "https://localhost:8080/"
        },
        "id": "HoRKvoKv86Me",
        "outputId": "b9b8991f-e48b-454a-b85c-0d58a6967fb8"
      },
      "source": [
        "y_true = yVal\n",
        "y_pred = maxPrediction\n",
        "confusion_matrix(y_true, y_pred)"
      ],
      "execution_count": 18,
      "outputs": [
        {
          "output_type": "execute_result",
          "data": {
            "text/plain": [
              "array([[877,   0,  12,  26,   0,   1,  80,   0,   4,   0],\n",
              "       [  2, 988,   1,   7,   0,   0,   2,   0,   0,   0],\n",
              "       [  8,   0, 872,   6,  48,   0,  65,   0,   1,   0],\n",
              "       [ 12,   6,   5, 933,  30,   0,  13,   0,   0,   1],\n",
              "       [  1,   0,  35,  26, 891,   0,  46,   0,   1,   0],\n",
              "       [  0,   0,   1,   0,   0, 977,   0,  18,   0,   4],\n",
              "       [ 99,   0,  35,  35,  48,   0, 779,   0,   4,   0],\n",
              "       [  0,   0,   0,   0,   0,   2,   0, 977,   0,  21],\n",
              "       [  3,   1,   1,   0,   3,   1,   4,   3, 983,   1],\n",
              "       [  0,   0,   0,   0,   0,   3,   0,  30,   1, 966]])"
            ]
          },
          "metadata": {
            "tags": []
          },
          "execution_count": 18
        }
      ]
    },
    {
      "cell_type": "code",
      "metadata": {
        "colab": {
          "base_uri": "https://localhost:8080/",
          "height": 580
        },
        "id": "92SG3omQ89eA",
        "outputId": "33b97883-8e1f-4a8e-a836-cafb3866b0ce"
      },
      "source": [
        "plt.figure(figsize=(10,10))\n",
        "plt.imshow(confusion_matrix(y_true, y_pred), cmap='tab20c')\n",
        "plt.xlabel(\"Predicted labels\")\n",
        "plt.ylabel(\"True labels\")\n",
        "plt.xticks([0,1,2,3,4,5,6,7,8,9], classNames)\n",
        "plt.yticks([0,1,2,3,4,5,6,7,8,9], classNames)\n",
        "plt.title('Confusion matrix ')\n",
        "plt.colorbar()\n",
        "plt.show()\n",
        "#https://matplotlib.org/3.1.1/gallery/images_contours_and_fields/image_annotated_heatmap.html#sphx-glr-gallery-images-contours-and-fields-image-annotated-heatmap-py\n"
      ],
      "execution_count": 19,
      "outputs": [
        {
          "output_type": "display_data",
          "data": {
            "image/png": "[encoded data removed]",
            "text/plain": [
              "<Figure size 720x720 with 2 Axes>"
            ]
          },
          "metadata": {
            "tags": [],
            "needs_background": "light"
          }
        }
      ]
    },
    {
      "cell_type": "code",
      "metadata": {
        "id": "NhcBCTyiUXC0"
      },
      "source": [
        ""
      ],
      "execution_count": 12,
      "outputs": []
    },
    {
      "cell_type": "code",
      "metadata": {
        "id": "nho9fb-39DGM"
      },
      "source": [
        ""
      ],
      "execution_count": 12,
      "outputs": []
    }
  ]
}